{
 "cells": [
  {
   "cell_type": "markdown",
   "id": "77c6434b",
   "metadata": {},
   "source": [
    "# List-2 > count_evens"
   ]
  },
  {
   "cell_type": "markdown",
   "id": "be38dfbc",
   "metadata": {},
   "source": [
    "Return the number of even ints in the given array. Note: the % \"mod\" operator computes the remainder, e.g. 5 % 2 is 1.\n",
    "\n",
    "\n",
    "count_evens([2, 1, 2, 3, 4]) → 3\n",
    "\n",
    "count_evens([2, 2, 0]) → 3\n",
    "\n",
    "count_evens([1, 3, 5]) → 0"
   ]
  },
  {
   "cell_type": "code",
   "execution_count": null,
   "id": "a596f7d6",
   "metadata": {},
   "outputs": [],
   "source": [
    "def count_evens(nums):\n",
    "  \n",
    "  count=0\n",
    "  \n",
    "  for num in nums:\n",
    "    if num%2 == 0:\n",
    "      count+=1\n",
    "    else:\n",
    "      pass\n",
    "  \n",
    "  return count"
   ]
  }
 ],
 "metadata": {
  "kernelspec": {
   "display_name": "Python 3 (ipykernel)",
   "language": "python",
   "name": "python3"
  },
  "language_info": {
   "codemirror_mode": {
    "name": "ipython",
    "version": 3
   },
   "file_extension": ".py",
   "mimetype": "text/x-python",
   "name": "python",
   "nbconvert_exporter": "python",
   "pygments_lexer": "ipython3",
   "version": "3.9.12"
  }
 },
 "nbformat": 4,
 "nbformat_minor": 5
}
